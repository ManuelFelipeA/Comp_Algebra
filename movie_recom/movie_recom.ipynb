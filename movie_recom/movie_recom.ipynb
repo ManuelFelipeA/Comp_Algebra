{
 "cells": [
  {
   "cell_type": "code",
   "execution_count": 1,
   "metadata": {},
   "outputs": [
    {
     "name": "stderr",
     "output_type": "stream",
     "text": [
      "2023-02-27 11:01:53.622169: I tensorflow/core/platform/cpu_feature_guard.cc:193] This TensorFlow binary is optimized with oneAPI Deep Neural Network Library (oneDNN) to use the following CPU instructions in performance-critical operations:  AVX2 AVX512F AVX512_VNNI FMA\n",
      "To enable them in other operations, rebuild TensorFlow with the appropriate compiler flags.\n",
      "2023-02-27 11:01:53.838780: I tensorflow/core/util/port.cc:104] oneDNN custom operations are on. You may see slightly different numerical results due to floating-point round-off errors from different computation orders. To turn them off, set the environment variable `TF_ENABLE_ONEDNN_OPTS=0`.\n",
      "2023-02-27 11:01:53.852326: W tensorflow/compiler/xla/stream_executor/platform/default/dso_loader.cc:64] Could not load dynamic library 'libcudart.so.11.0'; dlerror: libcudart.so.11.0: cannot open shared object file: No such file or directory\n",
      "2023-02-27 11:01:53.852379: I tensorflow/compiler/xla/stream_executor/cuda/cudart_stub.cc:29] Ignore above cudart dlerror if you do not have a GPU set up on your machine.\n",
      "2023-02-27 11:01:55.077829: W tensorflow/compiler/xla/stream_executor/platform/default/dso_loader.cc:64] Could not load dynamic library 'libnvinfer.so.7'; dlerror: libnvinfer.so.7: cannot open shared object file: No such file or directory\n",
      "2023-02-27 11:01:55.078633: W tensorflow/compiler/xla/stream_executor/platform/default/dso_loader.cc:64] Could not load dynamic library 'libnvinfer_plugin.so.7'; dlerror: libnvinfer_plugin.so.7: cannot open shared object file: No such file or directory\n",
      "2023-02-27 11:01:55.078663: W tensorflow/compiler/tf2tensorrt/utils/py_utils.cc:38] TF-TRT Warning: Cannot dlopen some TensorRT libraries. If you would like to use Nvidia GPU with TensorRT, please make sure the missing libraries mentioned above are installed properly.\n"
     ]
    },
    {
     "name": "stdout",
     "output_type": "stream",
     "text": [
      "2.11.0\n"
     ]
    }
   ],
   "source": [
    "\n",
    "import numpy as np                   # advanced math library\n",
    "import matplotlib.pyplot as plt \n",
    "import seaborn as sns     # MATLAB like plotting routines\n",
    "import random                        # for generating random numbers\n",
    "#\n",
    "from sklearn.decomposition import PCA\n",
    "from sklearn.manifold import MDS\n",
    "from sklearn.manifold import TSNE\n",
    "from sklearn.cluster import KMeans\n",
    "#\n",
    "import os\n",
    "#\n",
    "import pandas as pd\n",
    "import tensorflow as tf\n",
    "#\n",
    "from tensorflow.keras.models import Model\n",
    "#\n",
    "from tensorflow.keras.layers import Dense, Flatten, Input, Activation\n",
    "from tensorflow.keras.preprocessing.image import ImageDataGenerator\n",
    "#\n",
    "from tensorflow.keras.utils import to_categorical\n",
    "from tensorflow.keras.utils import plot_model\n",
    "#\n",
    "from sklearn.preprocessing import StandardScaler\n",
    "from sklearn.metrics import confusion_matrix\n",
    "from sklearn.svm import LinearSVC\n",
    "from sklearn.model_selection import train_test_split\n",
    "\n",
    "from PIL import Image as im\n",
    "#\n",
    "import scipy.sparse\n",
    "#\n",
    "print(tf.__version__)\n",
    "\n",
    "from keras.datasets import mnist     # MNIST dataset is included in Keras\n",
    "from keras.models import Sequential  # Model type to be used\n",
    "\n",
    "\n",
    "from keras.layers.core import Dense, Dropout, Activation # Types of layers to be used in our model\n",
    "from keras.utils import np_utils      "
   ]
  },
  {
   "cell_type": "code",
   "execution_count": 2,
   "metadata": {},
   "outputs": [
    {
     "name": "stdout",
     "output_type": "stream",
     "text": [
      "['format', 'shape', 'data', 'row', 'col']\n"
     ]
    }
   ],
   "source": [
    "b = np.load('movie_recommend.npz')\n",
    "print(b.files)"
   ]
  },
  {
   "cell_type": "code",
   "execution_count": 3,
   "metadata": {},
   "outputs": [
    {
     "name": "stdout",
     "output_type": "stream",
     "text": [
      "[5 5 5 ... 4 4 5]\n"
     ]
    }
   ],
   "source": [
    "print(b['data']) #data = 1000209"
   ]
  },
  {
   "cell_type": "code",
   "execution_count": 4,
   "metadata": {},
   "outputs": [],
   "source": [
    "# Carga el archivo .npz\n",
    "archive_title_npz = np.load('movie_titles.npz')\n",
    "archive_movie_npz= np.load('movie_recommend.npz')\n",
    "\n",
    "# Obtiene el array de títulos\n",
    "title_array = archive_title_npz['titles']"
   ]
  },
  {
   "cell_type": "code",
   "execution_count": 5,
   "metadata": {},
   "outputs": [
    {
     "data": {
      "text/plain": [
       "3706"
      ]
     },
     "execution_count": 5,
     "metadata": {},
     "output_type": "execute_result"
    }
   ],
   "source": [
    "len(title_array)"
   ]
  },
  {
   "cell_type": "code",
   "execution_count": 6,
   "metadata": {},
   "outputs": [],
   "source": [
    "sparse_matrix = scipy.sparse.load_npz('movie_recommend.npz')"
   ]
  },
  {
   "cell_type": "code",
   "execution_count": 7,
   "metadata": {},
   "outputs": [
    {
     "data": {
      "text/plain": [
       "<6040x3706 sparse matrix of type '<class 'numpy.int8'>'\n",
       "\twith 1000209 stored elements in COOrdinate format>"
      ]
     },
     "execution_count": 7,
     "metadata": {},
     "output_type": "execute_result"
    }
   ],
   "source": [
    "sparse_matrix #6040 users and 3706 movies"
   ]
  },
  {
   "cell_type": "code",
   "execution_count": 8,
   "metadata": {},
   "outputs": [],
   "source": [
    "sparse_matrix = sparse_matrix.toarray()"
   ]
  },
  {
   "cell_type": "code",
   "execution_count": 9,
   "metadata": {},
   "outputs": [],
   "source": [
    "def recommend_system(sdata):\n",
    "    sdata = sdata.astype(np.float64)\n",
    "    tolerance = 0.9\n",
    "    u, s,v = np.linalg.svd(sdata, full_matrices=False)\n",
    "    s = np.diag(s)\n",
    "    to_cut = int(tolerance*np.shape(s)[0])\n",
    "    #print(np.shape(u),np.shape(s),np.shape(v))\n",
    "    u = u[:,:-to_cut]\n",
    "    s = s[:-to_cut,:-to_cut]\n",
    "    v = v[:-to_cut,:]\n",
    "    #print(np.shape(u),np.shape(s),np.shape(v))\n",
    "    a = u @ s @ v\n",
    "    return a"
   ]
  },
  {
   "cell_type": "code",
   "execution_count": 13,
   "metadata": {},
   "outputs": [],
   "source": [
    "\n",
    "def recommend_me(users): #I tried to vectorize it but for some reason it changed the suggetions, so \n",
    "    #I guess I screw it up in some part of this cell\n",
    "    system = recommend_system(sparse_matrix)\n",
    "    scores = np.zeros((len(users),np.shape(system)[1]))\n",
    "    known_taste = sparse_matrix[users,:]\n",
    "    not_seen_movies = (known_taste==0) #get which movies the users have not seen\n",
    "    scores = np.multiply(not_seen_movies,system[users])\n",
    "    print(np.shape(scores))\n",
    "    top_ind = np.argpartition(scores, -2,axis=1)[:,-2:] #get top 2 suggestions\n",
    "    max_score = np.max(scores,axis=1)\n",
    "    print(max_score)\n",
    "    for user in np.arange(0,np.shape(top_ind)[0]): #double for just for printing\n",
    "        for movie_ind in np.arange(0,np.shape(top_ind)[1]):\n",
    "             movie = top_ind[user,movie_ind]\n",
    "             percentage = \"{0:.0%}\".format(scores[user,movie]/max_score[user])\n",
    "             print('User', users[user], ' is ', percentage, '--->',title_array[movie])\n",
    "        print('\\n')\n",
    "    return None"
   ]
  },
  {
   "cell_type": "code",
   "execution_count": 14,
   "metadata": {},
   "outputs": [
    {
     "name": "stdout",
     "output_type": "stream",
     "text": [
      "(3, 3706)\n",
      "[2.87549387 2.10447166 1.17848538]\n",
      "User 0  is  64% ---> Jurassic Park (1993)\n",
      "User 0  is  100% ---> Jackie Chan's First Strike (1996)\n",
      "\n",
      "\n",
      "User 1  is  99% ---> My Left Foot (1989)\n",
      "User 1  is  100% ---> Philadelphia (1993)\n",
      "\n",
      "\n",
      "User 2  is  96% ---> Never Cry Wolf (1983)\n",
      "User 2  is  100% ---> Back to the Future (1985)\n",
      "\n",
      "\n"
     ]
    }
   ],
   "source": [
    "recommend_me([0,1,2])"
   ]
  },
  {
   "cell_type": "code",
   "execution_count": null,
   "metadata": {},
   "outputs": [],
   "source": []
  }
 ],
 "metadata": {
  "kernelspec": {
   "display_name": "Python 3 (ipykernel)",
   "language": "python",
   "name": "python3"
  },
  "language_info": {
   "codemirror_mode": {
    "name": "ipython",
    "version": 3
   },
   "file_extension": ".py",
   "mimetype": "text/x-python",
   "name": "python",
   "nbconvert_exporter": "python",
   "pygments_lexer": "ipython3",
   "version": "3.9.12"
  }
 },
 "nbformat": 4,
 "nbformat_minor": 2
}
